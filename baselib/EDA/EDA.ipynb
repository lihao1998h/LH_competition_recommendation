{
 "cells": [
  {
   "cell_type": "code",
   "execution_count": 1,
   "outputs": [
    {
     "name": "stdout",
     "output_type": "stream",
     "text": [
      "D:\\coding\\recommendation\\LH_competition_recommendation\\baselib\\EDA\n"
     ]
    }
   ],
   "source": [
    "import time\n",
    "import pandas as pd\n",
    "import numpy as np\n",
    "import os\n",
    "print(os.getcwd())"
   ],
   "metadata": {
    "collapsed": false,
    "pycharm": {
     "name": "#%%\n"
    }
   }
  },
  {
   "cell_type": "markdown",
   "source": [
    "locale: the locale code of the product ['DE' 'JP' 'UK' 'ES' 'FR' 'IT']\n",
    "ES:Spanish, DE:German\n",
    "\n",
    "id: a unique for the product. Also known as Amazon Standard Item Number (ASIN) (e.g., B07WSY3MG8)\n",
    "\n",
    "title: title of the item (e.g., “Japanese Aesthetic Sakura Flowers Vaporwave Soft Grunge Gift T-Shirt”)\n",
    "\n",
    "price: price of the item in local currency (e.g., 24.99)\n",
    "\n",
    "brand: item brand name (e.g., “Japanese Aesthetic Flowers & Vaporwave Clothing”)\n",
    "\n",
    "color: color of the item (e.g., “Black”)\n",
    "\n",
    "size: size of the item (e.g., “xxl”)\n",
    "\n",
    "model: model of the item (e.g., “iphone 13”)\n",
    "\n",
    "material: material of the item (e.g., “cotton”)\n",
    "\n",
    "author: author of the item (e.g., “J. K. Rowling”)\n",
    "\n",
    "desc: description about a item’s key features and benefits called out via bullet points (e.g., “Solid colors: 100% Cotton; Heather Grey: 90% Cotton, 10% Polyester; All Other Heathers …”)"
   ],
   "metadata": {
    "collapsed": false
   }
  },
  {
   "cell_type": "code",
   "execution_count": 2,
   "outputs": [],
   "source": [
    "data_root = 'D:/data/KDD2023'\n",
    "\n",
    "productfile = pd.read_csv(os.path.join(data_root, 'products_train.csv'))  # 商品信息\n",
    "userfile = pd.read_csv(os.path.join(data_root, 'sessions_train.csv'))  # 用户信息\n",
    "task = 'task1'\n",
    "test_data = pd.read_csv(os.path.join(data_root, f'sessions_test_{task}.csv'))"
   ],
   "metadata": {
    "collapsed": false,
    "pycharm": {
     "name": "#%%\n"
    }
   }
  },
  {
   "cell_type": "code",
   "execution_count": 3,
   "outputs": [
    {
     "data": {
      "text/plain": "           id locale                                              title  \\\n0  B005ZSSN10     DE  RED DRAGON Amberjack 3 - Steel Tip 22 Gramm Wo...   \n1  B08PRYN6LD     DE  Simply Keto Lower Carb* Schokodrops ohne Zucke...   \n2  B09MBZJ48V     DE  Sennheiser 508377 PC 5.2 Chat, Stilvolles Mult...   \n3  B08ZN6F26S     DE  AmyBenton Auto ab 1 2 3 ahre - Baby Aufziehbar...   \n4  B094DGRV7D     DE      PLAYMOBIL - 70522 - Cavaliere mit grauem Pony   \n\n   price         brand              color              size    model  \\\n0  30.95    RED DRAGON                NaN               NaN  RDD0089   \n1  17.90   Simply Keto                NaN  750 g (1er Pack)      NaN   \n2  68.89    Sennheiser       Multi-Colour          One size   508377   \n3  18.99  Amy & Benton         Animal Car               NaN    2008B   \n4   7.17     PLAYMOBIL  Nicht Zutreffend.           OneSize    70522   \n\n             material author  \\\n0                 NaN    NaN   \n1                 NaN    NaN   \n2          Kunstleder    NaN   \n3  aufziehauto 1 jahr    NaN   \n4        Polypropylen    NaN   \n\n                                                desc  \n0  Amberjacks Steel Dartpfeile sind verfügbar in ...  \n1  🌱 NATÜRLICHE SÜSSE DURCH ERYTHRIT - Wir stelle...  \n2  3.5 MM BUCHSE - Kann problemlos an Geräte mit ...  \n3  【Auto aufziehbar】: Drücken Sie einfach leicht ...  \n4                                    Inhalt: 1 Stück  ",
      "text/html": "<div>\n<style scoped>\n    .dataframe tbody tr th:only-of-type {\n        vertical-align: middle;\n    }\n\n    .dataframe tbody tr th {\n        vertical-align: top;\n    }\n\n    .dataframe thead th {\n        text-align: right;\n    }\n</style>\n<table border=\"1\" class=\"dataframe\">\n  <thead>\n    <tr style=\"text-align: right;\">\n      <th></th>\n      <th>id</th>\n      <th>locale</th>\n      <th>title</th>\n      <th>price</th>\n      <th>brand</th>\n      <th>color</th>\n      <th>size</th>\n      <th>model</th>\n      <th>material</th>\n      <th>author</th>\n      <th>desc</th>\n    </tr>\n  </thead>\n  <tbody>\n    <tr>\n      <th>0</th>\n      <td>B005ZSSN10</td>\n      <td>DE</td>\n      <td>RED DRAGON Amberjack 3 - Steel Tip 22 Gramm Wo...</td>\n      <td>30.95</td>\n      <td>RED DRAGON</td>\n      <td>NaN</td>\n      <td>NaN</td>\n      <td>RDD0089</td>\n      <td>NaN</td>\n      <td>NaN</td>\n      <td>Amberjacks Steel Dartpfeile sind verfügbar in ...</td>\n    </tr>\n    <tr>\n      <th>1</th>\n      <td>B08PRYN6LD</td>\n      <td>DE</td>\n      <td>Simply Keto Lower Carb* Schokodrops ohne Zucke...</td>\n      <td>17.90</td>\n      <td>Simply Keto</td>\n      <td>NaN</td>\n      <td>750 g (1er Pack)</td>\n      <td>NaN</td>\n      <td>NaN</td>\n      <td>NaN</td>\n      <td>🌱 NATÜRLICHE SÜSSE DURCH ERYTHRIT - Wir stelle...</td>\n    </tr>\n    <tr>\n      <th>2</th>\n      <td>B09MBZJ48V</td>\n      <td>DE</td>\n      <td>Sennheiser 508377 PC 5.2 Chat, Stilvolles Mult...</td>\n      <td>68.89</td>\n      <td>Sennheiser</td>\n      <td>Multi-Colour</td>\n      <td>One size</td>\n      <td>508377</td>\n      <td>Kunstleder</td>\n      <td>NaN</td>\n      <td>3.5 MM BUCHSE - Kann problemlos an Geräte mit ...</td>\n    </tr>\n    <tr>\n      <th>3</th>\n      <td>B08ZN6F26S</td>\n      <td>DE</td>\n      <td>AmyBenton Auto ab 1 2 3 ahre - Baby Aufziehbar...</td>\n      <td>18.99</td>\n      <td>Amy &amp; Benton</td>\n      <td>Animal Car</td>\n      <td>NaN</td>\n      <td>2008B</td>\n      <td>aufziehauto 1 jahr</td>\n      <td>NaN</td>\n      <td>【Auto aufziehbar】: Drücken Sie einfach leicht ...</td>\n    </tr>\n    <tr>\n      <th>4</th>\n      <td>B094DGRV7D</td>\n      <td>DE</td>\n      <td>PLAYMOBIL - 70522 - Cavaliere mit grauem Pony</td>\n      <td>7.17</td>\n      <td>PLAYMOBIL</td>\n      <td>Nicht Zutreffend.</td>\n      <td>OneSize</td>\n      <td>70522</td>\n      <td>Polypropylen</td>\n      <td>NaN</td>\n      <td>Inhalt: 1 Stück</td>\n    </tr>\n  </tbody>\n</table>\n</div>"
     },
     "execution_count": 3,
     "metadata": {},
     "output_type": "execute_result"
    }
   ],
   "source": [
    "productfile.head()"
   ],
   "metadata": {
    "collapsed": false,
    "pycharm": {
     "name": "#%%\n"
    }
   }
  },
  {
   "cell_type": "code",
   "execution_count": 4,
   "outputs": [
    {
     "data": {
      "text/plain": "                                          prev_items   next_item locale\n0                        ['B09W9FND7K' 'B09JSPLN1M']  B09M7GY217     DE\n1  ['B076THCGSG' 'B007MO8IME' 'B08MF65MLV' 'B001B...  B001B4THSA     DE\n2  ['B0B1LGXWDS' 'B00AZYORS2' 'B0B1LGXWDS' 'B00AZ...  B0767DTG2Q     DE\n3  ['B09XMTWDVT' 'B0B4MZZ8MB' 'B0B7HZ2GWX' 'B09XM...  B0B4R9NN4B     DE\n4           ['B09Y5CSL3T' 'B09Y5DPTXN' 'B09FKD61R8']  B0BGVBKWGZ     DE",
      "text/html": "<div>\n<style scoped>\n    .dataframe tbody tr th:only-of-type {\n        vertical-align: middle;\n    }\n\n    .dataframe tbody tr th {\n        vertical-align: top;\n    }\n\n    .dataframe thead th {\n        text-align: right;\n    }\n</style>\n<table border=\"1\" class=\"dataframe\">\n  <thead>\n    <tr style=\"text-align: right;\">\n      <th></th>\n      <th>prev_items</th>\n      <th>next_item</th>\n      <th>locale</th>\n    </tr>\n  </thead>\n  <tbody>\n    <tr>\n      <th>0</th>\n      <td>['B09W9FND7K' 'B09JSPLN1M']</td>\n      <td>B09M7GY217</td>\n      <td>DE</td>\n    </tr>\n    <tr>\n      <th>1</th>\n      <td>['B076THCGSG' 'B007MO8IME' 'B08MF65MLV' 'B001B...</td>\n      <td>B001B4THSA</td>\n      <td>DE</td>\n    </tr>\n    <tr>\n      <th>2</th>\n      <td>['B0B1LGXWDS' 'B00AZYORS2' 'B0B1LGXWDS' 'B00AZ...</td>\n      <td>B0767DTG2Q</td>\n      <td>DE</td>\n    </tr>\n    <tr>\n      <th>3</th>\n      <td>['B09XMTWDVT' 'B0B4MZZ8MB' 'B0B7HZ2GWX' 'B09XM...</td>\n      <td>B0B4R9NN4B</td>\n      <td>DE</td>\n    </tr>\n    <tr>\n      <th>4</th>\n      <td>['B09Y5CSL3T' 'B09Y5DPTXN' 'B09FKD61R8']</td>\n      <td>B0BGVBKWGZ</td>\n      <td>DE</td>\n    </tr>\n  </tbody>\n</table>\n</div>"
     },
     "execution_count": 4,
     "metadata": {},
     "output_type": "execute_result"
    }
   ],
   "source": [
    "userfile.head()"
   ],
   "metadata": {
    "collapsed": false,
    "pycharm": {
     "name": "#%%\n"
    }
   }
  },
  {
   "cell_type": "code",
   "execution_count": 5,
   "outputs": [
    {
     "data": {
      "text/plain": "                                          prev_items locale\n0  ['B08V12CT4C' 'B08V1KXBQD' 'B01BVG1XJS' 'B09VC...     DE\n1           ['B00R9R5ND6' 'B00R9RZ9ZS' 'B00R9RZ9ZS']     DE\n2  ['B07YSRXJD3' 'B07G7Q5N6G' 'B08C9Q7QVK' 'B07G7...     DE\n3  ['B08KQBYV43' '3955350843' '3955350843' '39553...     DE\n4  ['B09FPTCWMC' 'B09FPTQP68' 'B08HMRY8NG' 'B08TB...     DE",
      "text/html": "<div>\n<style scoped>\n    .dataframe tbody tr th:only-of-type {\n        vertical-align: middle;\n    }\n\n    .dataframe tbody tr th {\n        vertical-align: top;\n    }\n\n    .dataframe thead th {\n        text-align: right;\n    }\n</style>\n<table border=\"1\" class=\"dataframe\">\n  <thead>\n    <tr style=\"text-align: right;\">\n      <th></th>\n      <th>prev_items</th>\n      <th>locale</th>\n    </tr>\n  </thead>\n  <tbody>\n    <tr>\n      <th>0</th>\n      <td>['B08V12CT4C' 'B08V1KXBQD' 'B01BVG1XJS' 'B09VC...</td>\n      <td>DE</td>\n    </tr>\n    <tr>\n      <th>1</th>\n      <td>['B00R9R5ND6' 'B00R9RZ9ZS' 'B00R9RZ9ZS']</td>\n      <td>DE</td>\n    </tr>\n    <tr>\n      <th>2</th>\n      <td>['B07YSRXJD3' 'B07G7Q5N6G' 'B08C9Q7QVK' 'B07G7...</td>\n      <td>DE</td>\n    </tr>\n    <tr>\n      <th>3</th>\n      <td>['B08KQBYV43' '3955350843' '3955350843' '39553...</td>\n      <td>DE</td>\n    </tr>\n    <tr>\n      <th>4</th>\n      <td>['B09FPTCWMC' 'B09FPTQP68' 'B08HMRY8NG' 'B08TB...</td>\n      <td>DE</td>\n    </tr>\n  </tbody>\n</table>\n</div>"
     },
     "execution_count": 5,
     "metadata": {},
     "output_type": "execute_result"
    }
   ],
   "source": [
    "test_data.head()"
   ],
   "metadata": {
    "collapsed": false,
    "pycharm": {
     "name": "#%%\n"
    }
   }
  },
  {
   "cell_type": "code",
   "execution_count": 6,
   "outputs": [],
   "source": [
    "def read_locale_data(locale):\n",
    "    products = productfile.query(f'locale == \"{locale}\"')\n",
    "    sess_train = userfile.query(f'locale == \"{locale}\"')\n",
    "    sess_test = test_data.query(f'locale == \"{locale}\"')\n",
    "    return products, sess_train, sess_test\n",
    "\n",
    "def show_locale_info(locale):\n",
    "    products, sess_train, sess_test = read_locale_data(locale)\n",
    "\n",
    "    train_l = sess_train['prev_items'].apply(lambda sess: len(sess.replace(\"'\", \"\").strip(\"[]\").split(' ')))\n",
    "    test_l = sess_test['prev_items'].apply(lambda sess: len(sess.replace(\"'\", \"\").strip(\"[]\").split(' ')))\n",
    "\n",
    "    print(f\"Locale: {locale} \\n\"\n",
    "          f\"Number of products: {products['id'].nunique()} \\n\"\n",
    "          f\"Number of train sessions: {len(sess_train)} \\n\"\n",
    "          f\"Train session lengths - \"\n",
    "          f\"Mean: {train_l.mean():.2f} | Median {train_l.median():.2f} | \"\n",
    "          f\"Min: {train_l.min():.2f} | Max {train_l.max():.2f} \\n\"\n",
    "          f\"Number of test sessions: {len(sess_test)}\"\n",
    "        )\n",
    "    if len(sess_test) > 0:\n",
    "        print(\n",
    "             f\"Test session lengths - \"\n",
    "            f\"Mean: {test_l.mean():.2f} | Median {test_l.median():.2f} | \"\n",
    "            f\"Min: {test_l.min():.2f} | Max {test_l.max():.2f} \\n\"\n",
    "        )\n",
    "    print(\"======================================================================== \\n\")"
   ],
   "metadata": {
    "collapsed": false,
    "pycharm": {
     "name": "#%%\n"
    }
   }
  },
  {
   "cell_type": "code",
   "execution_count": 7,
   "outputs": [
    {
     "name": "stdout",
     "output_type": "stream",
     "text": [
      "['DE' 'JP' 'UK' 'ES' 'FR' 'IT']\n",
      "Locale: DE \n",
      "Number of products: 518327 \n",
      "Number of train sessions: 1111416 \n",
      "Train session lengths - Mean: 4.35 | Median 3.00 | Min: 2.00 | Max 156.00 \n",
      "Number of test sessions: 104568\n",
      "Test session lengths - Mean: 4.30 | Median 3.00 | Min: 2.00 | Max 53.00 \n",
      "\n",
      "======================================================================== \n",
      "\n",
      "Locale: JP \n",
      "Number of products: 395009 \n",
      "Number of train sessions: 979119 \n",
      "Train session lengths - Mean: 4.48 | Median 3.00 | Min: 2.00 | Max 474.00 \n",
      "Number of test sessions: 96467\n",
      "Test session lengths - Mean: 4.51 | Median 3.00 | Min: 2.00 | Max 112.00 \n",
      "\n",
      "======================================================================== \n",
      "\n",
      "Locale: UK \n",
      "Number of products: 500180 \n",
      "Number of train sessions: 1182181 \n",
      "Train session lengths - Mean: 4.12 | Median 3.00 | Min: 2.00 | Max 201.00 \n",
      "Number of test sessions: 115936\n",
      "Test session lengths - Mean: 4.02 | Median 3.00 | Min: 2.00 | Max 66.00 \n",
      "\n",
      "======================================================================== \n",
      "\n",
      "Locale: ES \n",
      "Number of products: 42503 \n",
      "Number of train sessions: 89047 \n",
      "Train session lengths - Mean: 3.66 | Median 3.00 | Min: 2.00 | Max 60.00 \n",
      "Number of test sessions: 0\n",
      "======================================================================== \n",
      "\n",
      "Locale: FR \n",
      "Number of products: 44577 \n",
      "Number of train sessions: 117561 \n",
      "Train session lengths - Mean: 3.55 | Median 3.00 | Min: 2.00 | Max 52.00 \n",
      "Number of test sessions: 0\n",
      "======================================================================== \n",
      "\n",
      "Locale: IT \n",
      "Number of products: 50461 \n",
      "Number of train sessions: 126925 \n",
      "Train session lengths - Mean: 3.66 | Median 3.00 | Min: 2.00 | Max 47.00 \n",
      "Number of test sessions: 0\n",
      "======================================================================== \n",
      "\n"
     ]
    }
   ],
   "source": [
    "\n",
    "locale_names = productfile['locale'].unique()\n",
    "print(locale_names)\n",
    "for locale in locale_names:\n",
    "    show_locale_info(locale)"
   ],
   "metadata": {
    "collapsed": false,
    "pycharm": {
     "name": "#%%\n"
    }
   }
  },
  {
   "cell_type": "code",
   "execution_count": 8,
   "outputs": [],
   "source": [
    "PREDS_PER_SESSION = 1000\n",
    "def random_predicitons(locale, sess_test_locale):\n",
    "    random_state = np.random.RandomState(42)\n",
    "    products = productfile.query(f'locale == \"{locale}\"')\n",
    "    predictions = []\n",
    "    for _ in range(len(sess_test_locale)):\n",
    "        predictions.append(\n",
    "            list(products['id'].sample(PREDS_PER_SESSION, replace=True, random_state=random_state))\n",
    "        )\n",
    "    sess_test_locale['next_item_prediction'] = predictions\n",
    "    sess_test_locale.drop('prev_items', inplace=True, axis=1)\n",
    "    return sess_test_locale\n"
   ],
   "metadata": {
    "collapsed": false,
    "pycharm": {
     "name": "#%%\n"
    }
   }
  },
  {
   "cell_type": "code",
   "execution_count": 11,
   "outputs": [
    {
     "name": "stdout",
     "output_type": "stream",
     "text": [
      "(316971, 2)\n"
     ]
    },
    {
     "data": {
      "text/plain": "       locale                               next_item_prediction\n14069      DE  [B08T1LP7KH, B01LZ5A6F3, 3772444571, B09K7F2N7...\n224017     UK  [B09JWLR3RS, B0074O8YYY, B076932C58, B01ENJ1WF...\n75917      DE  [B08XZQKNW9, B0BFP1BXM4, B0B2RQCJ43, B09M74DQG...\n184045     JP  [B0B8MTMHJH, B0BK8X3786, B07NFCVCPP, B004O6KX4...\n104154     DE  [B09LDCTHXW, B0992NL6CH, B01M3RG1VR, 355105171...",
      "text/html": "<div>\n<style scoped>\n    .dataframe tbody tr th:only-of-type {\n        vertical-align: middle;\n    }\n\n    .dataframe tbody tr th {\n        vertical-align: top;\n    }\n\n    .dataframe thead th {\n        text-align: right;\n    }\n</style>\n<table border=\"1\" class=\"dataframe\">\n  <thead>\n    <tr style=\"text-align: right;\">\n      <th></th>\n      <th>locale</th>\n      <th>next_item_prediction</th>\n    </tr>\n  </thead>\n  <tbody>\n    <tr>\n      <th>14069</th>\n      <td>DE</td>\n      <td>[B08T1LP7KH, B01LZ5A6F3, 3772444571, B09K7F2N7...</td>\n    </tr>\n    <tr>\n      <th>224017</th>\n      <td>UK</td>\n      <td>[B09JWLR3RS, B0074O8YYY, B076932C58, B01ENJ1WF...</td>\n    </tr>\n    <tr>\n      <th>75917</th>\n      <td>DE</td>\n      <td>[B08XZQKNW9, B0BFP1BXM4, B0B2RQCJ43, B09M74DQG...</td>\n    </tr>\n    <tr>\n      <th>184045</th>\n      <td>JP</td>\n      <td>[B0B8MTMHJH, B0BK8X3786, B07NFCVCPP, B004O6KX4...</td>\n    </tr>\n    <tr>\n      <th>104154</th>\n      <td>DE</td>\n      <td>[B09LDCTHXW, B0992NL6CH, B01M3RG1VR, 355105171...</td>\n    </tr>\n  </tbody>\n</table>\n</div>"
     },
     "execution_count": 11,
     "metadata": {},
     "output_type": "execute_result"
    }
   ],
   "source": [
    "predictions = []\n",
    "test_locale_names = test_data['locale'].unique()\n",
    "for locale in test_locale_names:\n",
    "    sess_test_locale = test_data.query(f'locale == \"{locale}\"').copy()\n",
    "    predictions.append(\n",
    "        random_predicitons(locale, sess_test_locale)\n",
    "    )\n",
    "predictions = pd.concat(predictions).reset_index(drop=True)\n",
    "print(predictions.shape)\n",
    "predictions.sample(5)"
   ],
   "metadata": {
    "collapsed": false,
    "pycharm": {
     "name": "#%%\n"
    }
   }
  },
  {
   "cell_type": "code",
   "execution_count": null,
   "outputs": [],
   "source": [],
   "metadata": {
    "collapsed": false,
    "pycharm": {
     "name": "#%%\n"
    }
   }
  },
  {
   "cell_type": "code",
   "execution_count": null,
   "outputs": [],
   "source": [
    "def check_predictions(predictions, check_products=False):\n",
    "    \"\"\"\n",
    "    These tests need to pass as they will also be applied on the evaluator\n",
    "    \"\"\"\n",
    "    test_locale_names = test_data['locale'].unique()\n",
    "    for locale in test_locale_names:\n",
    "        sess_test = test_data.query(f'locale == \"{locale}\"')\n",
    "        preds_locale =  predictions[predictions['locale'] == sess_test['locale'].iloc[0]]\n",
    "        assert sorted(preds_locale.index.values) == sorted(sess_test.index.values), f\"Session ids of {locale} doesn't match\"\n",
    "\n",
    "        if check_products:\n",
    "            # This check is not done on the evaluator\n",
    "            # but you can run it to verify there is no mixing of products between locales\n",
    "            # Since the ground truth next item will always belong to the same locale\n",
    "            # Warning - This can be slow to run\n",
    "            products = productfile.query(f'locale == \"{locale}\"')\n",
    "            predicted_products = np.unique( np.array(list(preds_locale[\"next_item_prediction\"].values)) )\n",
    "            assert np.all( np.isin(predicted_products, products['id']) ), f\"Invalid products in {locale} predictions\"\n",
    "    print('fine')"
   ],
   "metadata": {
    "collapsed": false,
    "pycharm": {
     "name": "#%%\n"
    }
   }
  },
  {
   "cell_type": "code",
   "execution_count": null,
   "outputs": [],
   "source": [
    "check_predictions(predictions)\n",
    "# Its important that the parquet file you submit is saved with pyarrow backend\n",
    "predictions.to_parquet(f'./output/submission_{task}.parquet', engine='pyarrow')\n",
    "\n"
   ],
   "metadata": {
    "collapsed": false,
    "pycharm": {
     "name": "#%%\n"
    }
   }
  },
  {
   "cell_type": "code",
   "execution_count": 51,
   "outputs": [],
   "source": [
    "# aicrowd submission create -c task-1-next-product-recommendation -f \"submission_task1.parquet\""
   ],
   "metadata": {
    "collapsed": false,
    "pycharm": {
     "name": "#%%\n"
    }
   }
  },
  {
   "cell_type": "code",
   "execution_count": null,
   "outputs": [],
   "source": [],
   "metadata": {
    "collapsed": false,
    "pycharm": {
     "name": "#%%\n"
    }
   }
  }
 ],
 "metadata": {
  "kernelspec": {
   "display_name": "Python 3",
   "language": "python",
   "name": "python3"
  },
  "language_info": {
   "codemirror_mode": {
    "name": "ipython",
    "version": 2
   },
   "file_extension": ".py",
   "mimetype": "text/x-python",
   "name": "python",
   "nbconvert_exporter": "python",
   "pygments_lexer": "ipython2",
   "version": "2.7.6"
  }
 },
 "nbformat": 4,
 "nbformat_minor": 0
}